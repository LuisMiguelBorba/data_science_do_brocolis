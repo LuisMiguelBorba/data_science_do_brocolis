{
 "cells": [
  {
   "cell_type": "code",
   "execution_count": 1,
   "metadata": {},
   "outputs": [],
   "source": [
    "import pandas as pd\n",
    "import matplotlib as plt\n",
    "import numpy as np\n",
    "import seaborn as sns\n"
   ]
  },
  {
   "cell_type": "code",
   "execution_count": 29,
   "metadata": {},
   "outputs": [],
   "source": [
    "def somaTudoMes(tabela):\n",
    "\n",
    "    dados = pd.read_excel(tabela)\n",
    "    print(int(dados.total.sum()))\n",
    "\n",
    "def somaTudoID(tabela):\n",
    "\n",
    "    dados = pd.read_excel(tabela)\n",
    "    ids = dados.id.unique()\n",
    "    print(f'ids disponiveis:{ids}')\n",
    "\n",
    "    id = input('digite ID')\n",
    "   \n",
    "    filtraID = dados.query(f'id=={id}')\n",
    "    total = filtraID.total.sum()\n",
    "    print(total)\n"
   ]
  },
  {
   "cell_type": "code",
   "execution_count": 47,
   "metadata": {},
   "outputs": [],
   "source": [
    "def SomaTudo(tabela):\n",
    "    \n",
    "    produtor = []\n",
    "    global totais\n",
    "    totais = []\n",
    "    \n",
    "    dados = pd.read_excel(tabela)\n",
    "    \n",
    "    total = dados.total.sum()\n",
    "    dadosID = dados.id.unique()\n",
    "    \n",
    "    for itens in dadosID:\n",
    "        itens = float(itens)\n",
    "        produtor.append(itens)\n",
    "    \n",
    "    for index in produtor:\n",
    "        if index ==1:\n",
    "            somaID1 = dados.query('id==1')\n",
    "            totalID1 = somaID1.total.sum()\n",
    "            totais.append(totalID1)\n",
    "            print(f'TOTAL ID 1 = {totalID1}')\n",
    "            \n",
    "        elif index ==2:\n",
    "            somaID2 = dados.query('id==2')\n",
    "            totalID2 = somaID2.total.sum()\n",
    "            totais.append(totalID2)\n",
    "            print(f'TOTAL ID 2 = {totalID2}')\n",
    "\n",
    "\n",
    "        elif index==3:\n",
    "            somaID3 = dados.query('id==3')\n",
    "            totalID3 = somaID3.total.sum()\n",
    "            totais.append(totalID3)\n",
    "            print(f'TOTAL ID 3 = {totalID3}')\n",
    "\n",
    "        elif index==4:\n",
    "            somaID4 = dados.query('id==4')\n",
    "            totalID4 = somaID4.total.sum()\n",
    "            totais.append(totalID4)\n",
    "            print(f'TOTAL ID 4 = {totalID4}')\n",
    "\n",
    "        elif index==5:\n",
    "            somaID5 = dados.query('id==5')\n",
    "            totalID5 = somaID5.total.sum()\n",
    "            totais.append(totalID5)\n",
    "            print(f'TOTAL ID 5 = {totalID5}')\n",
    "\n",
    "        elif index==6:\n",
    "            somaID6 = dados.query('id==6')\n",
    "            totalID6 = somaID6.total.sum()\n",
    "            totais.append(totalID6)\n",
    "            print(f'TOTAL ID 6 = {totalID6}')\n",
    "\n",
    "    print(f'TOTAL GERAL = {total}')\n",
    "    totalMeses = np.array"
   ]
  },
  {
   "cell_type": "code",
   "execution_count": 42,
   "metadata": {},
   "outputs": [],
   "source": [
    "def RetornMaiorMenor(tabela):\n",
    "\n",
    "    dados = pd.read_excel(tabela)\n",
    "    dados = pd.DataFrame(dados)\n",
    "\n",
    "    maior = dados.total.max()\n",
    "    \n",
    "    produtor = dados.query(f'total=={maior}')\n",
    "    maiorID = produtor.id\n",
    "\n",
    "    print()\n",
    "    \n",
    "#A TERMINAR\n"
   ]
  },
  {
   "cell_type": "code",
   "execution_count": 7,
   "metadata": {},
   "outputs": [
    {
     "name": "stdout",
     "output_type": "stream",
     "text": [
      "43546\n",
      "46191\n",
      "44427\n",
      "46837\n",
      "57239\n"
     ]
    }
   ],
   "source": [
    "somaTudoMes('janeiro.xlsx')\n",
    "somaTudoMes('fevereiro.xlsx')\n",
    "somaTudoMes('março.xlsx')\n",
    "somaTudoMes('abril.xlsx')\n",
    "somaTudoMes('maio.xlsx')\n"
   ]
  },
  {
   "cell_type": "code",
   "execution_count": 32,
   "metadata": {},
   "outputs": [
    {
     "name": "stdout",
     "output_type": "stream",
     "text": [
      "ids disponiveis:[1 4 5 6]\n"
     ]
    },
    {
     "name": "stdout",
     "output_type": "stream",
     "text": [
      "1543\n"
     ]
    }
   ],
   "source": [
    "somaTudoID('janeiro.xlsx')"
   ]
  },
  {
   "cell_type": "code",
   "execution_count": null,
   "metadata": {},
   "outputs": [],
   "source": []
  }
 ],
 "metadata": {
  "kernelspec": {
   "display_name": "Python 3",
   "language": "python",
   "name": "python3"
  },
  "language_info": {
   "codemirror_mode": {
    "name": "ipython",
    "version": 3
   },
   "file_extension": ".py",
   "mimetype": "text/x-python",
   "name": "python",
   "nbconvert_exporter": "python",
   "pygments_lexer": "ipython3",
   "version": "3.10.10"
  },
  "orig_nbformat": 4
 },
 "nbformat": 4,
 "nbformat_minor": 2
}
