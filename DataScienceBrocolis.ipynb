{
 "cells": [
  {
   "cell_type": "code",
   "execution_count": 22,
   "metadata": {},
   "outputs": [],
   "source": [
    "import pandas as pd\n",
    "import matplotlib.pyplot as plt\n",
    "import numpy as np\n",
    "import seaborn as sns\n",
    "\n",
    "totalMeses = []"
   ]
  },
  {
   "cell_type": "code",
   "execution_count": 23,
   "metadata": {},
   "outputs": [],
   "source": [
    "def somaTudoMes(tabela):\n",
    "\n",
    "    dados = pd.read_excel(tabela)\n",
    "    total = int(dados.total.sum())\n",
    "    print(int(dados.total.sum()))\n",
    "    totalMeses.append(total)\n",
    "\n",
    "def somaTudoID(tabela, id):\n",
    "\n",
    "    dados = pd.read_excel(tabela)\n",
    "   \n",
    "    filtraID = dados.query(f'id=={id}')\n",
    "    total = filtraID.total.sum()\n",
    "    print(total)\n"
   ]
  },
  {
   "cell_type": "code",
   "execution_count": 24,
   "metadata": {},
   "outputs": [],
   "source": [
    "def SomaTudo(tabela):\n",
    "    \n",
    "    produtor = []\n",
    "    global totais\n",
    "    totais = []\n",
    "    \n",
    "    dados = pd.read_excel(tabela)\n",
    "    \n",
    "    total = dados.total.sum()\n",
    "    dadosID = dados.id.unique()\n",
    "    \n",
    "    for itens in dadosID:\n",
    "        itens = float(itens)\n",
    "        produtor.append(itens)\n",
    "    \n",
    "    for index in produtor:\n",
    "        if index ==1:\n",
    "            somaID1 = dados.query('id==1')\n",
    "            totalID1 = somaID1.total.sum()\n",
    "            totais.append(totalID1)\n",
    "            print(f'TOTAL ID 1 = {totalID1}')\n",
    "            \n",
    "        elif index ==2:\n",
    "            somaID2 = dados.query('id==2')\n",
    "            totalID2 = somaID2.total.sum()\n",
    "            totais.append(totalID2)\n",
    "            print(f'TOTAL ID 2 = {totalID2}')\n",
    "\n",
    "\n",
    "        elif index==3:\n",
    "            somaID3 = dados.query('id==3')\n",
    "            totalID3 = somaID3.total.sum()\n",
    "            totais.append(totalID3)\n",
    "            print(f'TOTAL ID 3 = {totalID3}')\n",
    "\n",
    "        elif index==4:\n",
    "            somaID4 = dados.query('id==4')\n",
    "            totalID4 = somaID4.total.sum()\n",
    "            totais.append(totalID4)\n",
    "            print(f'TOTAL ID 4 = {totalID4}')\n",
    "\n",
    "        elif index==5:\n",
    "            somaID5 = dados.query('id==5')\n",
    "            totalID5 = somaID5.total.sum()\n",
    "            totais.append(totalID5)\n",
    "            print(f'TOTAL ID 5 = {totalID5}')\n",
    "\n",
    "        elif index==6:\n",
    "            somaID6 = dados.query('id==6')\n",
    "            totalID6 = somaID6.total.sum()\n",
    "            totais.append(totalID6)\n",
    "            print(f'TOTAL ID 6 = {totalID6}')\n",
    "\n",
    "    print(f'TOTAL GERAL = {total}')\n",
    "    \n",
    "    "
   ]
  },
  {
   "cell_type": "code",
   "execution_count": null,
   "metadata": {},
   "outputs": [],
   "source": []
  },
  {
   "cell_type": "code",
   "execution_count": 25,
   "metadata": {},
   "outputs": [],
   "source": [
    "def RetornMaiorMenor(tabela):\n",
    "\n",
    "    dados = pd.read_excel(tabela)\n",
    "    dados = pd.DataFrame(dados)\n",
    "\n",
    "    maior = dados.total.max()\n",
    "    \n",
    "    produtor = dados.query(f'total=={maior}')\n",
    "    maiorID = produtor.id\n",
    "\n",
    "    print()\n",
    "    \n",
    "#A TERMINAR\n"
   ]
  },
  {
   "cell_type": "code",
   "execution_count": 26,
   "metadata": {},
   "outputs": [
    {
     "name": "stdout",
     "output_type": "stream",
     "text": [
      "43546\n",
      "46191\n",
      "44427\n",
      "46837\n",
      "57239\n",
      "58244\n"
     ]
    }
   ],
   "source": [
    "somaTudoMes('janeiro.xlsx')\n",
    "somaTudoMes('fevereiro.xlsx')\n",
    "somaTudoMes('março.xlsx')\n",
    "somaTudoMes('abril.xlsx')\n",
    "somaTudoMes('maio.xlsx')\n",
    "somaTudoMes('junho.xlsx')\n"
   ]
  },
  {
   "cell_type": "code",
   "execution_count": 27,
   "metadata": {},
   "outputs": [
    {
     "name": "stdout",
     "output_type": "stream",
     "text": [
      "TOTAL ID 1 = 20251\n",
      "TOTAL ID 2 = 7193\n",
      "TOTAL ID 3 = 29795\n",
      "TOTAL GERAL = 57239\n",
      "TOTAL ID 1 = 33861\n",
      "TOTAL ID 4 = 1817\n",
      "TOTAL ID 5 = 1543\n",
      "TOTAL ID 6 = 6325\n",
      "TOTAL GERAL = 43546\n"
     ]
    }
   ],
   "source": [
    "maio  = SomaTudo('maio.xlsx')\n",
    "janeiro = SomaTudo('janeiro.xlsx')\n"
   ]
  },
  {
   "cell_type": "code",
   "execution_count": 39,
   "metadata": {},
   "outputs": [],
   "source": [
    "totalMeses\n",
    "meses = [1,2,3,4,5,6]\n",
    "meses\n",
    "\n",
    "z = list(zip(meses, totalMeses))"
   ]
  },
  {
   "cell_type": "code",
   "execution_count": 40,
   "metadata": {},
   "outputs": [
    {
     "data": {
      "text/html": [
       "<div>\n",
       "<style scoped>\n",
       "    .dataframe tbody tr th:only-of-type {\n",
       "        vertical-align: middle;\n",
       "    }\n",
       "\n",
       "    .dataframe tbody tr th {\n",
       "        vertical-align: top;\n",
       "    }\n",
       "\n",
       "    .dataframe thead th {\n",
       "        text-align: right;\n",
       "    }\n",
       "</style>\n",
       "<table border=\"1\" class=\"dataframe\">\n",
       "  <thead>\n",
       "    <tr style=\"text-align: right;\">\n",
       "      <th></th>\n",
       "      <th>mes</th>\n",
       "      <th>total</th>\n",
       "    </tr>\n",
       "  </thead>\n",
       "  <tbody>\n",
       "    <tr>\n",
       "      <th>0</th>\n",
       "      <td>1</td>\n",
       "      <td>43546</td>\n",
       "    </tr>\n",
       "    <tr>\n",
       "      <th>1</th>\n",
       "      <td>2</td>\n",
       "      <td>46191</td>\n",
       "    </tr>\n",
       "    <tr>\n",
       "      <th>2</th>\n",
       "      <td>3</td>\n",
       "      <td>44427</td>\n",
       "    </tr>\n",
       "    <tr>\n",
       "      <th>3</th>\n",
       "      <td>4</td>\n",
       "      <td>46837</td>\n",
       "    </tr>\n",
       "    <tr>\n",
       "      <th>4</th>\n",
       "      <td>5</td>\n",
       "      <td>57239</td>\n",
       "    </tr>\n",
       "    <tr>\n",
       "      <th>5</th>\n",
       "      <td>6</td>\n",
       "      <td>58244</td>\n",
       "    </tr>\n",
       "  </tbody>\n",
       "</table>\n",
       "</div>"
      ],
      "text/plain": [
       "   mes  total\n",
       "0    1  43546\n",
       "1    2  46191\n",
       "2    3  44427\n",
       "3    4  46837\n",
       "4    5  57239\n",
       "5    6  58244"
      ]
     },
     "execution_count": 40,
     "metadata": {},
     "output_type": "execute_result"
    }
   ],
   "source": [
    "dataBase = pd.DataFrame(data=z, columns=['mes','total'])\n",
    "dataBase.total.sum()\n",
    "\n",
    "dataBase"
   ]
  },
  {
   "cell_type": "code",
   "execution_count": 41,
   "metadata": {},
   "outputs": [
    {
     "data": {
      "text/plain": [
       "<Axes: xlabel='mes', ylabel='total'>"
      ]
     },
     "execution_count": 41,
     "metadata": {},
     "output_type": "execute_result"
    },
    {
     "data": {
      "image/png": "[encoded data removed]",
      "text/plain": [
       "<Figure size 640x480 with 1 Axes>"
      ]
     },
     "metadata": {},
     "output_type": "display_data"
    }
   ],
   "source": [
    "sns.scatterplot(data=dataBase,x='mes',y='total') #USANDO SCATTERPLOT"
   ]
  },
  {
   "cell_type": "code",
   "execution_count": 42,
   "metadata": {},
   "outputs": [
    {
     "ename": "AttributeError",
     "evalue": "module 'numpy' has no attribute 'float'.\n`np.float` was a deprecated alias for the builtin `float`. To avoid this error in existing code, use `float` by itself. Doing this will not modify any behavior and is safe. If you specifically wanted the numpy scalar type, use `np.float64` here.\nThe aliases was originally deprecated in NumPy 1.20; for more details and guidance see the original release note at:\n    https://numpy.org/devdocs/release/1.20.0-notes.html#deprecations",
     "output_type": "error",
     "traceback": [
      "\u001b[1;31m---------------------------------------------------------------------------\u001b[0m",
      "\u001b[1;31mAttributeError\u001b[0m                            Traceback (most recent call last)",
      "Cell \u001b[1;32mIn[42], line 1\u001b[0m\n\u001b[1;32m----> 1\u001b[0m sns\u001b[39m.\u001b[39;49mlineplot(data\u001b[39m=\u001b[39;49mdataBase,x\u001b[39m=\u001b[39;49m\u001b[39m'\u001b[39;49m\u001b[39mmes\u001b[39;49m\u001b[39m'\u001b[39;49m, y\u001b[39m=\u001b[39;49m\u001b[39m'\u001b[39;49m\u001b[39mtotal\u001b[39;49m\u001b[39m'\u001b[39;49m)\n",
      "File \u001b[1;32mc:\\Users\\ACER\\AppData\\Local\\Programs\\Python\\Python310\\lib\\site-packages\\seaborn\\relational.py:1084\u001b[0m, in \u001b[0;36mlineplot\u001b[1;34m(x, y, hue, size, style, data, palette, hue_order, hue_norm, sizes, size_order, size_norm, dashes, markers, style_order, units, estimator, ci, n_boot, sort, err_style, err_kws, legend, ax, **kwargs)\u001b[0m\n\u001b[0;32m   1081\u001b[0m \u001b[39mif\u001b[39;00m ax \u001b[39mis\u001b[39;00m \u001b[39mNone\u001b[39;00m:\n\u001b[0;32m   1082\u001b[0m     ax \u001b[39m=\u001b[39m plt\u001b[39m.\u001b[39mgca()\n\u001b[1;32m-> 1084\u001b[0m p\u001b[39m.\u001b[39;49mplot(ax, kwargs)\n\u001b[0;32m   1086\u001b[0m \u001b[39mreturn\u001b[39;00m ax\n",
      "File \u001b[1;32mc:\\Users\\ACER\\AppData\\Local\\Programs\\Python\\Python310\\lib\\site-packages\\seaborn\\relational.py:775\u001b[0m, in \u001b[0;36m_LinePlotter.plot\u001b[1;34m(self, ax, kws)\u001b[0m\n\u001b[0;32m    773\u001b[0m         err \u001b[39m=\u001b[39m \u001b[39m\"\u001b[39m\u001b[39mestimator must be None when specifying units\u001b[39m\u001b[39m\"\u001b[39m\n\u001b[0;32m    774\u001b[0m         \u001b[39mraise\u001b[39;00m \u001b[39mValueError\u001b[39;00m(err)\n\u001b[1;32m--> 775\u001b[0m     x, y, y_ci \u001b[39m=\u001b[39m \u001b[39mself\u001b[39;49m\u001b[39m.\u001b[39;49maggregate(y, x, units)\n\u001b[0;32m    776\u001b[0m \u001b[39melse\u001b[39;00m:\n\u001b[0;32m    777\u001b[0m     y_ci \u001b[39m=\u001b[39m \u001b[39mNone\u001b[39;00m\n",
      "File \u001b[1;32mc:\\Users\\ACER\\AppData\\Local\\Programs\\Python\\Python310\\lib\\site-packages\\seaborn\\relational.py:691\u001b[0m, in \u001b[0;36m_LinePlotter.aggregate\u001b[1;34m(self, vals, grouper, units)\u001b[0m\n\u001b[0;32m    688\u001b[0m n_boot \u001b[39m=\u001b[39m \u001b[39mself\u001b[39m\u001b[39m.\u001b[39mn_boot\n\u001b[0;32m    690\u001b[0m \u001b[39m# Define a \"null\" CI for when we only have one value\u001b[39;00m\n\u001b[1;32m--> 691\u001b[0m null_ci \u001b[39m=\u001b[39m pd\u001b[39m.\u001b[39mSeries(index\u001b[39m=\u001b[39m[\u001b[39m\"\u001b[39m\u001b[39mlow\u001b[39m\u001b[39m\"\u001b[39m, \u001b[39m\"\u001b[39m\u001b[39mhigh\u001b[39m\u001b[39m\"\u001b[39m], dtype\u001b[39m=\u001b[39mnp\u001b[39m.\u001b[39;49mfloat)\n\u001b[0;32m    693\u001b[0m \u001b[39m# Function to bootstrap in the context of a pandas group by\u001b[39;00m\n\u001b[0;32m    694\u001b[0m \u001b[39mdef\u001b[39;00m \u001b[39mbootstrapped_cis\u001b[39m(vals):\n",
      "File \u001b[1;32mc:\\Users\\ACER\\AppData\\Local\\Programs\\Python\\Python310\\lib\\site-packages\\numpy\\__init__.py:305\u001b[0m, in \u001b[0;36m__getattr__\u001b[1;34m(attr)\u001b[0m\n\u001b[0;32m    300\u001b[0m     warnings\u001b[39m.\u001b[39mwarn(\n\u001b[0;32m    301\u001b[0m         \u001b[39mf\u001b[39m\u001b[39m\"\u001b[39m\u001b[39mIn the future `np.\u001b[39m\u001b[39m{\u001b[39;00mattr\u001b[39m}\u001b[39;00m\u001b[39m` will be defined as the \u001b[39m\u001b[39m\"\u001b[39m\n\u001b[0;32m    302\u001b[0m         \u001b[39m\"\u001b[39m\u001b[39mcorresponding NumPy scalar.\u001b[39m\u001b[39m\"\u001b[39m, \u001b[39mFutureWarning\u001b[39;00m, stacklevel\u001b[39m=\u001b[39m\u001b[39m2\u001b[39m)\n\u001b[0;32m    304\u001b[0m \u001b[39mif\u001b[39;00m attr \u001b[39min\u001b[39;00m __former_attrs__:\n\u001b[1;32m--> 305\u001b[0m     \u001b[39mraise\u001b[39;00m \u001b[39mAttributeError\u001b[39;00m(__former_attrs__[attr])\n\u001b[0;32m    307\u001b[0m \u001b[39m# Importing Tester requires importing all of UnitTest which is not a\u001b[39;00m\n\u001b[0;32m    308\u001b[0m \u001b[39m# cheap import Since it is mainly used in test suits, we lazy import it\u001b[39;00m\n\u001b[0;32m    309\u001b[0m \u001b[39m# here to save on the order of 10 ms of import time for most users\u001b[39;00m\n\u001b[0;32m    310\u001b[0m \u001b[39m#\u001b[39;00m\n\u001b[0;32m    311\u001b[0m \u001b[39m# The previous way Tester was imported also had a side effect of adding\u001b[39;00m\n\u001b[0;32m    312\u001b[0m \u001b[39m# the full `numpy.testing` namespace\u001b[39;00m\n\u001b[0;32m    313\u001b[0m \u001b[39mif\u001b[39;00m attr \u001b[39m==\u001b[39m \u001b[39m'\u001b[39m\u001b[39mtesting\u001b[39m\u001b[39m'\u001b[39m:\n",
      "\u001b[1;31mAttributeError\u001b[0m: module 'numpy' has no attribute 'float'.\n`np.float` was a deprecated alias for the builtin `float`. To avoid this error in existing code, use `float` by itself. Doing this will not modify any behavior and is safe. If you specifically wanted the numpy scalar type, use `np.float64` here.\nThe aliases was originally deprecated in NumPy 1.20; for more details and guidance see the original release note at:\n    https://numpy.org/devdocs/release/1.20.0-notes.html#deprecations"
     ]
    },
    {
     "data": {
      "image/png": "[encoded data removed]",
      "text/plain": [
       "<Figure size 640x480 with 1 Axes>"
      ]
     },
     "metadata": {},
     "output_type": "display_data"
    }
   ],
   "source": [
    "sns.lineplot(data=dataBase,x='mes', y='total')"
   ]
  },
  {
   "cell_type": "code",
   "execution_count": 43,
   "metadata": {},
   "outputs": [
    {
     "name": "stdout",
     "output_type": "stream",
     "text": [
      "<class 'int'>\n",
      "<class 'int'>\n",
      "<class 'int'>\n",
      "<class 'int'>\n",
      "<class 'int'>\n",
      "<class 'int'>\n"
     ]
    }
   ],
   "source": [
    "for itens in meses:\n",
    "    print(type(itens))"
   ]
  }
 ],
 "metadata": {
  "kernelspec": {
   "display_name": "Python 3",
   "language": "python",
   "name": "python3"
  },
  "language_info": {
   "codemirror_mode": {
    "name": "ipython",
    "version": 3
   },
   "file_extension": ".py",
   "mimetype": "text/x-python",
   "name": "python",
   "nbconvert_exporter": "python",
   "pygments_lexer": "ipython3",
   "version": "3.10.10"
  },
  "orig_nbformat": 4
 },
 "nbformat": 4,
 "nbformat_minor": 2
}
