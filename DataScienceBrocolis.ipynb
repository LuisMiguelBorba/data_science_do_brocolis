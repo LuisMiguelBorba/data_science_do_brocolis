{
 "cells": [
  {
   "cell_type": "code",
   "execution_count": 111,
   "metadata": {},
   "outputs": [],
   "source": [
    "import pandas as pd\n",
    "import matplotlib as plt\n",
    "import numpy as np\n",
    "import seaborn as sns\n",
    "\n",
    "totalMeses= []"
   ]
  },
  {
   "cell_type": "code",
   "execution_count": 112,
   "metadata": {},
   "outputs": [],
   "source": [
    "def SomaTudo(tabela):\n",
    "    \n",
    "    produtor = []\n",
    "    global totais\n",
    "    totais = []\n",
    "    \n",
    "    dados = pd.read_excel(tabela)\n",
    "    \n",
    "    total = dados.total.sum()\n",
    "    dadosID = dados.id.unique()\n",
    "    \n",
    "    for itens in dadosID:\n",
    "        itens = int(itens)\n",
    "        produtor.append(itens)\n",
    "    \n",
    "    for index in produtor:\n",
    "        if index ==1:\n",
    "            somaID1 = dados.query('id==1')\n",
    "            totalID1 = somaID1.total.sum()\n",
    "            totais.append(totalID1)\n",
    "            \n",
    "        elif index ==2:\n",
    "            somaID2 = dados.query('id==2')\n",
    "            totalID2 = somaID2.total.sum()\n",
    "            totais.append(totalID2)\n",
    "\n",
    "\n",
    "\n",
    "        elif index==3:\n",
    "            somaID3 = dados.query('id==3')\n",
    "            totalID3 = somaID3.total.sum()\n",
    "            totais.append(totalID3)\n",
    "\n",
    "\n",
    "        elif index==4:\n",
    "            somaID4 = dados.query('id==4')\n",
    "            totalID4 = somaID4.total.sum()\n",
    "            totais.append(totalID4)\n",
    "\n",
    "        elif index==5:\n",
    "            somaID5 = dados.query('id==5')\n",
    "            totalID5 = somaID5.total.sum()\n",
    "            totais.append(totalID5)\n",
    "\n",
    "\n",
    "        elif index==6:\n",
    "            somaID6 = dados.query('id==6')\n",
    "            totalID6 = somaID6.total.sum()\n",
    "            totais.append(totalID6)\n",
    "\n",
    "    print(f'TOTAL GERAL = {total}')\n",
    "    \n",
    "    \n",
    "\n",
    "    #totalMeses.append(total)   \n",
    "    \n"
   ]
  },
  {
   "cell_type": "code",
   "execution_count": null,
   "metadata": {},
   "outputs": [],
   "source": []
  },
  {
   "cell_type": "code",
   "execution_count": 113,
   "metadata": {},
   "outputs": [
    {
     "name": "stdout",
     "output_type": "stream",
     "text": [
      "TOTAL GERAL = 43546\n",
      "[33861, 1817, 1543, 6325]\n"
     ]
    }
   ],
   "source": [
    "SomaTudo('janeiro.xlsx')\n",
    "janeiro = totais\n",
    "\n",
    "print(totais)"
   ]
  },
  {
   "cell_type": "code",
   "execution_count": 114,
   "metadata": {},
   "outputs": [
    {
     "name": "stdout",
     "output_type": "stream",
     "text": [
      "TOTAL GERAL = 57239\n",
      "[7193, 29795, 20251]\n"
     ]
    }
   ],
   "source": [
    "SomaTudo('maio.xlsx')\n",
    "print(totais)"
   ]
  },
  {
   "cell_type": "code",
   "execution_count": null,
   "metadata": {},
   "outputs": [],
   "source": [
    "\n"
   ]
  }
 ],
 "metadata": {
  "kernelspec": {
   "display_name": "Python 3",
   "language": "python",
   "name": "python3"
  },
  "language_info": {
   "codemirror_mode": {
    "name": "ipython",
    "version": 3
   },
   "file_extension": ".py",
   "mimetype": "text/x-python",
   "name": "python",
   "nbconvert_exporter": "python",
   "pygments_lexer": "ipython3",
   "version": "3.10.10"
  },
  "orig_nbformat": 4
 },
 "nbformat": 4,
 "nbformat_minor": 2
}
